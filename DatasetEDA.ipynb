{
 "cells": [
  {
   "cell_type": "code",
   "execution_count": 118,
   "id": "3cee588d",
   "metadata": {},
   "outputs": [],
   "source": [
    "from utils.constants import *\n",
    "\n",
    "import torch\n",
    "import numpy as np\n",
    "import matplotlib as plt\n",
    "import librosa\n",
    "import librosa.display\n",
    "from speechpy import processing\n",
    "from sklearn.preprocessing import normalize"
   ]
  },
  {
   "cell_type": "markdown",
   "id": "54b420ad",
   "metadata": {},
   "source": [
    "# Nesto"
   ]
  },
  {
   "cell_type": "code",
   "execution_count": 119,
   "id": "2bbea4bc",
   "metadata": {},
   "outputs": [],
   "source": [
    "audio_path = 'data/dataset/IRMAS-TrainingData/flu/[flu][cla]0346__1.wav'\n",
    "\n",
    "audio_sample, sr = librosa.load(audio_path)\n",
    "audio_sample = np.array(audio_sample)"
   ]
  },
  {
   "cell_type": "code",
   "execution_count": 120,
   "id": "b9a483a7",
   "metadata": {},
   "outputs": [
    {
     "data": {
      "text/plain": [
       "(20, 14)"
      ]
     },
     "execution_count": 120,
     "metadata": {},
     "output_type": "execute_result"
    }
   ],
   "source": [
    "mfcc_features = librosa.feature.mfcc(y=audio_sample, sr=sr, n_mfcc=20, hop_length=5000, n_fft=2048)\n",
    "mfcc_features = processing.cmvn(mfcc_features)\n",
    "# print(mfcc_features)\n",
    "\n",
    "mfcc_features.shape"
   ]
  },
  {
   "cell_type": "code",
   "execution_count": 121,
   "id": "158a69ff",
   "metadata": {},
   "outputs": [
    {
     "data": {
      "text/plain": [
       "<matplotlib.collections.QuadMesh at 0x7fe38b291f00>"
      ]
     },
     "execution_count": 121,
     "metadata": {},
     "output_type": "execute_result"
    },
    {
     "data": {
      "image/png": "[encoded data removed]",
      "text/plain": [
       "<Figure size 640x480 with 1 Axes>"
      ]
     },
     "metadata": {},
     "output_type": "display_data"
    }
   ],
   "source": [
    "librosa.display.specshow(mfcc_features, sr=sr, x_axis='time')"
   ]
  },
  {
   "cell_type": "code",
   "execution_count": 122,
   "id": "9b31b380",
   "metadata": {},
   "outputs": [],
   "source": [
    "norm_features = np.median(mfcc_features, axis=1)\n",
    "norm_features = norm_features / np.linalg.norm(norm_features)"
   ]
  },
  {
   "cell_type": "code",
   "execution_count": 123,
   "id": "fdc2c2bd",
   "metadata": {},
   "outputs": [
    {
     "data": {
      "text/plain": [
       "array([-0.8750463 ,  0.4355505 ,  0.11127397,  0.08963745,  0.01025477,\n",
       "       -0.00333496,  0.00482281,  0.07056085,  0.02512034,  0.00451691,\n",
       "       -0.03767378, -0.02350473, -0.01087018,  0.0806716 ,  0.04617594,\n",
       "        0.0381593 ,  0.01900463, -0.01240594, -0.02731138,  0.07039891],\n",
       "      dtype=float32)"
      ]
     },
     "execution_count": 123,
     "metadata": {},
     "output_type": "execute_result"
    }
   ],
   "source": [
    "norm_features"
   ]
  },
  {
   "cell_type": "code",
   "execution_count": null,
   "id": "d0f288ab",
   "metadata": {},
   "outputs": [],
   "source": []
  }
 ],
 "metadata": {
  "kernelspec": {
   "display_name": "Python 3.9.13 ('base')",
   "language": "python",
   "name": "python3"
  },
  "language_info": {
   "codemirror_mode": {
    "name": "ipython",
    "version": 3
   },
   "file_extension": ".py",
   "mimetype": "text/x-python",
   "name": "python",
   "nbconvert_exporter": "python",
   "pygments_lexer": "ipython3",
   "version": "3.9.13"
  },
  "vscode": {
   "interpreter": {
    "hash": "7e7ab1af55b7af7810e0d3eb9506897477ffae8a9e67e34be3aab4f4880f219d"
   }
  }
 },
 "nbformat": 4,
 "nbformat_minor": 5
}
