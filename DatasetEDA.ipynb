{
 "cells": [
  {
   "cell_type": "code",
   "execution_count": 28,
   "id": "3cee588d",
   "metadata": {},
   "outputs": [],
   "source": [
    "from utils.constants import *\n",
    "\n",
    "import torch\n",
    "import numpy as np\n",
    "import matplotlib as plt\n",
    "import librosa\n",
    "import librosa.display\n",
    "from speechpy import processing"
   ]
  },
  {
   "cell_type": "markdown",
   "id": "54b420ad",
   "metadata": {},
   "source": [
    "# Nesto"
   ]
  },
  {
   "cell_type": "code",
   "execution_count": 29,
   "id": "2bbea4bc",
   "metadata": {},
   "outputs": [],
   "source": [
    "audio_path = 'data/dataset/IRMAS-TrainingData/flu/[flu][cla]0346__1.wav'\n",
    "\n",
    "audio_sample, sr = librosa.load(audio_path)\n",
    "audio_sample = np.array(audio_sample)"
   ]
  },
  {
   "cell_type": "code",
   "execution_count": 30,
   "id": "b9a483a7",
   "metadata": {},
   "outputs": [
    {
     "data": {
      "text/plain": [
       "(20, 130)"
      ]
     },
     "execution_count": 30,
     "metadata": {},
     "output_type": "execute_result"
    }
   ],
   "source": [
    "mfcc_features = librosa.feature.mfcc(y=audio_sample, sr=sr, n_mfcc=20)\n",
    "mfcc_features = processing.cmvn(mfcc_features)\n",
    "# print(mfcc_features)\n",
    "\n",
    "mfcc_features.shape"
   ]
  },
  {
   "cell_type": "code",
   "execution_count": 31,
   "id": "158a69ff",
   "metadata": {},
   "outputs": [
    {
     "data": {
      "text/plain": [
       "<matplotlib.collections.QuadMesh at 0x7fe391321960>"
      ]
     },
     "execution_count": 31,
     "metadata": {},
     "output_type": "execute_result"
    },
    {
     "data": {
      "image/png": "[encoded data removed]",
      "text/plain": [
       "<Figure size 640x480 with 1 Axes>"
      ]
     },
     "metadata": {},
     "output_type": "display_data"
    }
   ],
   "source": [
    "librosa.display.specshow(mfcc_features, sr=sr, x_axis='time')"
   ]
  },
  {
   "cell_type": "code",
   "execution_count": 32,
   "id": "9b31b380",
   "metadata": {},
   "outputs": [],
   "source": [
    "mfcc_features = np.median(mfcc_features, axis=1)"
   ]
  },
  {
   "cell_type": "code",
   "execution_count": null,
   "id": "d0f288ab",
   "metadata": {},
   "outputs": [],
   "source": []
  }
 ],
 "metadata": {
  "kernelspec": {
   "display_name": "Python 3.10.6 64-bit",
   "language": "python",
   "name": "python3"
  },
  "language_info": {
   "codemirror_mode": {
    "name": "ipython",
    "version": 3
   },
   "file_extension": ".py",
   "mimetype": "text/x-python",
   "name": "python",
   "nbconvert_exporter": "python",
   "pygments_lexer": "ipython3",
   "version": "3.10.6"
  },
  "vscode": {
   "interpreter": {
    "hash": "916dbcbb3f70747c44a77c7bcd40155683ae19c65e1c03b4aa3499c5328201f1"
   }
  }
 },
 "nbformat": 4,
 "nbformat_minor": 5
}
